{
 "cells": [
  {
   "cell_type": "markdown",
   "id": "139d7782",
   "metadata": {},
   "source": [
    "# CAR NUMBER PLATE DETECTION"
   ]
  },
  {
   "cell_type": "code",
   "execution_count": 1,
   "id": "ee89e01f",
   "metadata": {},
   "outputs": [],
   "source": [
    "import cv2\n",
    "import numpy as np\n",
    "import easyocr\n",
    "import matplotlib.pyplot as plt\n",
    "from IPython.display import Image"
   ]
  },
  {
   "cell_type": "code",
   "execution_count": 2,
   "id": "7d6698d7",
   "metadata": {},
   "outputs": [],
   "source": [
    "harcascade = \"haarcascade_russian_plate_number.xml\""
   ]
  },
  {
   "cell_type": "code",
   "execution_count": 11,
   "id": "36d7fc4d",
   "metadata": {},
   "outputs": [],
   "source": [
    "#Webcam selection\n",
    "cap = cv2.VideoCapture(0)\n",
    "\n",
    "#declaring area\n",
    "cap.set(3, 640) # width\n",
    "cap.set(4, 480) #height\n",
    "\n",
    "min_area = 500\n",
    "count = 0\n",
    "while True:\n",
    "    #reading image\n",
    "    success, img = cap.read()\n",
    "\n",
    "    plate_cascade = cv2.CascadeClassifier(harcascade)\n",
    "    \n",
    "    #converting the image to grayscale\n",
    "    img_gray = cv2.cvtColor(img, cv2.COLOR_BGR2GRAY)\n",
    "    \n",
    "    #extracting number plate coordinates\n",
    "    plates = plate_cascade.detectMultiScale(img_gray, 1.1, 4)\n",
    "\n",
    "    for (x,y,w,h) in plates:\n",
    "        area = w * h\n",
    "\n",
    "        if area > min_area:\n",
    "            cv2.rectangle(img, (x,y), (x+w, y+h), (0,255,0), 2)\n",
    "            cv2.putText(img, \"Number Plate\", (x,y-5), cv2.FONT_HERSHEY_COMPLEX_SMALL, 1, (255, 0, 255), 2)\n",
    "\n",
    "            img_roi = img[y: y+h, x:x+w]\n",
    "            cv2.imshow(\"ROI\", img_roi)\n",
    "\n",
    "\n",
    "    \n",
    "    cv2.imshow(\"Result\", img)\n",
    "\n",
    "    if cv2.waitKey(1) & 0xFF == ord('s'):\n",
    "        #saving number plate as SCANNED_IMG\n",
    "        cv2.imwrite(\"SCANNED_IMG\" + str(count) + \".jpg\", img_roi)\n",
    "        cv2.rectangle(img, (0,200), (640,300), (0,255,0), cv2.FILLED)\n",
    "        cv2.putText(img, \"Plate Saved\", (150, 265), cv2.FONT_HERSHEY_COMPLEX_SMALL, 2, (0, 0, 255), 2)\n",
    "        cv2.imshow(\"Results\",img)\n",
    "        cv2.waitKey(500)\n",
    "        count += 1"
   ]
  },
  {
   "cell_type": "code",
   "execution_count": 4,
   "id": "9c8dee9b",
   "metadata": {},
   "outputs": [
    {
     "data": {
      "image/jpeg": "[encoded data removed]",
      "text/plain": [
       "<IPython.core.display.Image object>"
      ]
     },
     "execution_count": 4,
     "metadata": {},
     "output_type": "execute_result"
    }
   ],
   "source": [
    "Image(\"SCANNED_IMG0.jpg\")"
   ]
  },
  {
   "cell_type": "code",
   "execution_count": 5,
   "id": "8565262f",
   "metadata": {},
   "outputs": [
    {
     "name": "stderr",
     "output_type": "stream",
     "text": [
      "Neither CUDA nor MPS are available - defaulting to CPU. Note: This module is much faster with a GPU.\n"
     ]
    }
   ],
   "source": [
    "reader = easyocr.Reader(['en'])"
   ]
  },
  {
   "cell_type": "code",
   "execution_count": 6,
   "id": "7bdc285e",
   "metadata": {},
   "outputs": [],
   "source": [
    "output = reader.readtext(\"SCANNED_IMG0.jpg\")"
   ]
  },
  {
   "cell_type": "code",
   "execution_count": 7,
   "id": "44823af1",
   "metadata": {},
   "outputs": [
    {
     "data": {
      "text/plain": [
       "[([[20, 14], [140, 14], [140, 44], [20, 44]],\n",
       "  'DL ZC0 1939',\n",
       "  0.4527495761306564)]"
      ]
     },
     "execution_count": 7,
     "metadata": {},
     "output_type": "execute_result"
    }
   ],
   "source": [
    "output"
   ]
  },
  {
   "cell_type": "code",
   "execution_count": 8,
   "id": "9f46f8b8",
   "metadata": {},
   "outputs": [],
   "source": [
    "number_plate = output[0][-2]"
   ]
  },
  {
   "cell_type": "code",
   "execution_count": 10,
   "id": "88958801",
   "metadata": {},
   "outputs": [
    {
     "name": "stdout",
     "output_type": "stream",
     "text": [
      "Number Plate:  DL ZC0 1939\n"
     ]
    }
   ],
   "source": [
    "print('Number Plate: ',text)"
   ]
  },
  {
   "cell_type": "code",
   "execution_count": null,
   "id": "a9a869af",
   "metadata": {},
   "outputs": [],
   "source": []
  }
 ],
 "metadata": {
  "kernelspec": {
   "display_name": "Python 3 (ipykernel)",
   "language": "python",
   "name": "python3"
  },
  "language_info": {
   "codemirror_mode": {
    "name": "ipython",
    "version": 3
   },
   "file_extension": ".py",
   "mimetype": "text/x-python",
   "name": "python",
   "nbconvert_exporter": "python",
   "pygments_lexer": "ipython3",
   "version": "3.11.1"
  }
 },
 "nbformat": 4,
 "nbformat_minor": 5
}
